{
 "cells": [
  {
   "cell_type": "code",
   "execution_count": 1,
   "metadata": {},
   "outputs": [],
   "source": [
    "# Import the dependencies.\n",
    "import pandas as pd\n",
    "import matplotlib.pyplot as plt\n",
    "import numpy as np\n",
    "import requests\n",
    "import gmaps\n",
    "import gmaps.datasets\n",
    "\n",
    "# Pull API key\n",
    "from config import g_key"
   ]
  },
  {
   "cell_type": "code",
   "execution_count": 2,
   "metadata": {
    "scrolled": true
   },
   "outputs": [
    {
     "data": {
      "text/html": [
       "<div>\n",
       "<style scoped>\n",
       "    .dataframe tbody tr th:only-of-type {\n",
       "        vertical-align: middle;\n",
       "    }\n",
       "\n",
       "    .dataframe tbody tr th {\n",
       "        vertical-align: top;\n",
       "    }\n",
       "\n",
       "    .dataframe thead th {\n",
       "        text-align: right;\n",
       "    }\n",
       "</style>\n",
       "<table border=\"1\" class=\"dataframe\">\n",
       "  <thead>\n",
       "    <tr style=\"text-align: right;\">\n",
       "      <th></th>\n",
       "      <th>City_ID</th>\n",
       "      <th>City</th>\n",
       "      <th>Country</th>\n",
       "      <th>Max Temp</th>\n",
       "      <th>Current Description</th>\n",
       "      <th>Lat</th>\n",
       "      <th>Lng</th>\n",
       "      <th>Hotel Name</th>\n",
       "    </tr>\n",
       "  </thead>\n",
       "  <tbody>\n",
       "    <tr>\n",
       "      <th>0</th>\n",
       "      <td>3</td>\n",
       "      <td>Avarua</td>\n",
       "      <td>CK</td>\n",
       "      <td>71.60</td>\n",
       "      <td>overcast clouds</td>\n",
       "      <td>-21.21</td>\n",
       "      <td>-159.78</td>\n",
       "      <td>Paradise Inn</td>\n",
       "    </tr>\n",
       "    <tr>\n",
       "      <th>1</th>\n",
       "      <td>6</td>\n",
       "      <td>Mandalgovi</td>\n",
       "      <td>MN</td>\n",
       "      <td>70.16</td>\n",
       "      <td>overcast clouds</td>\n",
       "      <td>45.76</td>\n",
       "      <td>106.27</td>\n",
       "      <td>В.Ганбат</td>\n",
       "    </tr>\n",
       "    <tr>\n",
       "      <th>2</th>\n",
       "      <td>15</td>\n",
       "      <td>Pringsewu</td>\n",
       "      <td>ID</td>\n",
       "      <td>73.65</td>\n",
       "      <td>overcast clouds</td>\n",
       "      <td>-5.36</td>\n",
       "      <td>104.97</td>\n",
       "      <td>Urban Style by Front One</td>\n",
       "    </tr>\n",
       "    <tr>\n",
       "      <th>3</th>\n",
       "      <td>44</td>\n",
       "      <td>Liwale</td>\n",
       "      <td>TZ</td>\n",
       "      <td>70.50</td>\n",
       "      <td>light rain</td>\n",
       "      <td>-9.77</td>\n",
       "      <td>37.93</td>\n",
       "      <td>Samoma Lodge</td>\n",
       "    </tr>\n",
       "    <tr>\n",
       "      <th>4</th>\n",
       "      <td>60</td>\n",
       "      <td>Poum</td>\n",
       "      <td>NC</td>\n",
       "      <td>70.12</td>\n",
       "      <td>scattered clouds</td>\n",
       "      <td>-20.23</td>\n",
       "      <td>164.02</td>\n",
       "      <td>Gîte kajeon</td>\n",
       "    </tr>\n",
       "  </tbody>\n",
       "</table>\n",
       "</div>"
      ],
      "text/plain": [
       "   City_ID        City Country  Max Temp Current Description    Lat     Lng  \\\n",
       "0        3      Avarua      CK     71.60     overcast clouds -21.21 -159.78   \n",
       "1        6  Mandalgovi      MN     70.16     overcast clouds  45.76  106.27   \n",
       "2       15   Pringsewu      ID     73.65     overcast clouds  -5.36  104.97   \n",
       "3       44      Liwale      TZ     70.50          light rain  -9.77   37.93   \n",
       "4       60        Poum      NC     70.12    scattered clouds -20.23  164.02   \n",
       "\n",
       "                 Hotel Name  \n",
       "0              Paradise Inn  \n",
       "1                  В.Ганбат  \n",
       "2  Urban Style by Front One  \n",
       "3              Samoma Lodge  \n",
       "4               Gîte kajeon  "
      ]
     },
     "execution_count": 2,
     "metadata": {},
     "output_type": "execute_result"
    }
   ],
   "source": [
    "# Import csv and save as dataframe\n",
    "vacation_df = pd.read_csv(\"weather_data/WeatherPy_vacation.csv\")\n",
    "vacation_df.head()"
   ]
  },
  {
   "cell_type": "code",
   "execution_count": 3,
   "metadata": {},
   "outputs": [],
   "source": [
    "# From the vacation search map, choose four cities that a customer might want to visit. They should be close together and on the same continent.\n",
    "# NOTE You may have to refine your search with the customer prompts to get cities that are close together.\n",
    "\n",
    "# Peniche, PT\n",
    "# Aviles, ES\n",
    "# Quimperle, FR\n",
    "# Barentin, FR"
   ]
  },
  {
   "cell_type": "code",
   "execution_count": 4,
   "metadata": {
    "scrolled": true
   },
   "outputs": [
    {
     "data": {
      "text/html": [
       "<div>\n",
       "<style scoped>\n",
       "    .dataframe tbody tr th:only-of-type {\n",
       "        vertical-align: middle;\n",
       "    }\n",
       "\n",
       "    .dataframe tbody tr th {\n",
       "        vertical-align: top;\n",
       "    }\n",
       "\n",
       "    .dataframe thead th {\n",
       "        text-align: right;\n",
       "    }\n",
       "</style>\n",
       "<table border=\"1\" class=\"dataframe\">\n",
       "  <thead>\n",
       "    <tr style=\"text-align: right;\">\n",
       "      <th></th>\n",
       "      <th>City_ID</th>\n",
       "      <th>City</th>\n",
       "      <th>Country</th>\n",
       "      <th>Max Temp</th>\n",
       "      <th>Current Description</th>\n",
       "      <th>Lat</th>\n",
       "      <th>Lng</th>\n",
       "      <th>Hotel Name</th>\n",
       "    </tr>\n",
       "  </thead>\n",
       "  <tbody>\n",
       "    <tr>\n",
       "      <th>32</th>\n",
       "      <td>343</td>\n",
       "      <td>Peniche</td>\n",
       "      <td>PT</td>\n",
       "      <td>71.01</td>\n",
       "      <td>scattered clouds</td>\n",
       "      <td>39.36</td>\n",
       "      <td>-9.38</td>\n",
       "      <td>Hotel Star inn Peniche</td>\n",
       "    </tr>\n",
       "  </tbody>\n",
       "</table>\n",
       "</div>"
      ],
      "text/plain": [
       "    City_ID     City Country  Max Temp Current Description    Lat   Lng  \\\n",
       "32      343  Peniche      PT     71.01    scattered clouds  39.36 -9.38   \n",
       "\n",
       "                Hotel Name  \n",
       "32  Hotel Star inn Peniche  "
      ]
     },
     "execution_count": 4,
     "metadata": {},
     "output_type": "execute_result"
    }
   ],
   "source": [
    "# Create separate DataFrames for each city on the travel route, using the loc attribute.\n",
    "peniche_df = vacation_df.loc[vacation_df[\"City\"]==\"Peniche\"]\n",
    "aviles_df = vacation_df.loc[vacation_df[\"City\"]==\"Aviles\"]\n",
    "quimperle_df = vacation_df.loc[vacation_df[\"City\"]==\"Quimperle\"]\n",
    "barentin_df = vacation_df.loc[vacation_df[\"City\"]==\"Barentin\"]\n",
    "peniche_df"
   ]
  },
  {
   "cell_type": "code",
   "execution_count": 5,
   "metadata": {},
   "outputs": [],
   "source": [
    "# To map each city on the route, get the latitude-longitude pairs for each city DataFrame as tuples.\n",
    "# Hint: To get the “values” of the latitude and longitude for each city use list indexing for each city DataFrame.\n",
    "\n",
    "# If you’d like a hint on getting the “values” of the latitude and longitude for each city using list indexing, that’s totally okay. If not, that’s great too. You can always revisit this later if you change your mind.\n",
    "\n",
    "# HINT\n",
    "# To use the Pandas values (Links to an external site.) or to_numpy()  (Links to an external site.)methods and list indexing to get the values for the latitude and longitude.\n",
    "peniche_array= peniche_df.values\n",
    "peniche_coords = (peniche_array[0][5],peniche_array[0][6])\n",
    "\n",
    "aviles_array= aviles_df.values\n",
    "aviles_coords = (aviles_array[0][5],aviles_array[0][6])\n",
    "\n",
    "quimperle_array= quimperle_df.values\n",
    "quimperle_coords = (quimperle_array[0][5],quimperle_array[0][6])\n",
    "\n",
    "barentin_array= barentin_df.values\n",
    "barentin_coords = (barentin_array[0][5],barentin_array[0][6])"
   ]
  },
  {
   "cell_type": "code",
   "execution_count": 6,
   "metadata": {
    "scrolled": true
   },
   "outputs": [
    {
     "data": {
      "application/vnd.jupyter.widget-view+json": {
       "model_id": "c3fc751491584b489426f9d7fb544445",
       "version_major": 2,
       "version_minor": 0
      },
      "text/plain": [
       "Figure(layout=FigureLayout(border='1px solid black', height='750px', padding='3px', width='750px'))"
      ]
     },
     "metadata": {},
     "output_type": "display_data"
    }
   ],
   "source": [
    "# Use the directions Layer instructions from the gmaps documentation (Links to an external site.).\n",
    "# For the travel_mode, use either DRIVING, BICYCLING, or WALKING.\n",
    "gmaps.configure(api_key=g_key)\n",
    "fig = gmaps.figure(layout={'width': '750px', 'height': '750px', 'padding': '3px', 'border': '1px solid black'})\n",
    "peniche2barentin_via_aviles_quimperle = gmaps.directions_layer(\n",
    "        peniche_coords, barentin_coords, waypoints=[aviles_coords,quimperle_coords],\n",
    "        travel_mode='DRIVING')\n",
    "fig.add_layer(peniche2barentin_via_aviles_quimperle)\n",
    "fig"
   ]
  },
  {
   "cell_type": "code",
   "execution_count": 7,
   "metadata": {},
   "outputs": [],
   "source": [
    "# Take a screenshot of the route and save it as WeatherPy_travel_map.png."
   ]
  },
  {
   "cell_type": "code",
   "execution_count": 8,
   "metadata": {},
   "outputs": [
    {
     "data": {
      "text/html": [
       "<div>\n",
       "<style scoped>\n",
       "    .dataframe tbody tr th:only-of-type {\n",
       "        vertical-align: middle;\n",
       "    }\n",
       "\n",
       "    .dataframe tbody tr th {\n",
       "        vertical-align: top;\n",
       "    }\n",
       "\n",
       "    .dataframe thead th {\n",
       "        text-align: right;\n",
       "    }\n",
       "</style>\n",
       "<table border=\"1\" class=\"dataframe\">\n",
       "  <thead>\n",
       "    <tr style=\"text-align: right;\">\n",
       "      <th></th>\n",
       "      <th>City_ID</th>\n",
       "      <th>City</th>\n",
       "      <th>Country</th>\n",
       "      <th>Max Temp</th>\n",
       "      <th>Current Description</th>\n",
       "      <th>Lat</th>\n",
       "      <th>Lng</th>\n",
       "      <th>Hotel Name</th>\n",
       "    </tr>\n",
       "  </thead>\n",
       "  <tbody>\n",
       "    <tr>\n",
       "      <th>32</th>\n",
       "      <td>343</td>\n",
       "      <td>Peniche</td>\n",
       "      <td>PT</td>\n",
       "      <td>71.01</td>\n",
       "      <td>scattered clouds</td>\n",
       "      <td>39.36</td>\n",
       "      <td>-9.38</td>\n",
       "      <td>Hotel Star inn Peniche</td>\n",
       "    </tr>\n",
       "    <tr>\n",
       "      <th>42</th>\n",
       "      <td>456</td>\n",
       "      <td>Aviles</td>\n",
       "      <td>ES</td>\n",
       "      <td>72.00</td>\n",
       "      <td>few clouds</td>\n",
       "      <td>43.55</td>\n",
       "      <td>-5.92</td>\n",
       "      <td>Hotel NH Collection Palacio de Avilés</td>\n",
       "    </tr>\n",
       "    <tr>\n",
       "      <th>54</th>\n",
       "      <td>557</td>\n",
       "      <td>Quimperle</td>\n",
       "      <td>FR</td>\n",
       "      <td>73.00</td>\n",
       "      <td>overcast clouds</td>\n",
       "      <td>47.87</td>\n",
       "      <td>-3.55</td>\n",
       "      <td>ibis Quimperlé</td>\n",
       "    </tr>\n",
       "    <tr>\n",
       "      <th>45</th>\n",
       "      <td>478</td>\n",
       "      <td>Barentin</td>\n",
       "      <td>FR</td>\n",
       "      <td>73.00</td>\n",
       "      <td>broken clouds</td>\n",
       "      <td>49.55</td>\n",
       "      <td>0.96</td>\n",
       "      <td>Normandie Hôtel</td>\n",
       "    </tr>\n",
       "  </tbody>\n",
       "</table>\n",
       "</div>"
      ],
      "text/plain": [
       "    City_ID       City Country  Max Temp Current Description    Lat   Lng  \\\n",
       "32      343    Peniche      PT     71.01    scattered clouds  39.36 -9.38   \n",
       "42      456     Aviles      ES     72.00          few clouds  43.55 -5.92   \n",
       "54      557  Quimperle      FR     73.00     overcast clouds  47.87 -3.55   \n",
       "45      478   Barentin      FR     73.00       broken clouds  49.55  0.96   \n",
       "\n",
       "                               Hotel Name  \n",
       "32                 Hotel Star inn Peniche  \n",
       "42  Hotel NH Collection Palacio de Avilés  \n",
       "54                         ibis Quimperlé  \n",
       "45                        Normandie Hôtel  "
      ]
     },
     "execution_count": 8,
     "metadata": {},
     "output_type": "execute_result"
    }
   ],
   "source": [
    "# Create a marker layer map for the four cities.\n",
    "# Hint: Combine the four separate DataFrames for each city into one DataFrame.\n",
    "four_cities_df = pd.concat([peniche_df,aviles_df,quimperle_df,barentin_df])\n",
    "four_cities_df.head()"
   ]
  },
  {
   "cell_type": "code",
   "execution_count": 9,
   "metadata": {},
   "outputs": [],
   "source": [
    "# On the marker layer map, make sure each city has a pop-up marker that contains the following:\n",
    "# Hotel name\n",
    "# City\n",
    "# Country\n",
    "# Current weather description with the maximum temperature\n",
    "\n",
    "info_box_template = \"\"\"\n",
    "<dl>\n",
    "<dt>Hotel Name</dt><dd>{Hotel Name}</dd>\n",
    "<dt>City</dt><dd>{City}</dd>\n",
    "<dt>Country</dt><dd>{Country}</dd>\n",
    "<dt>Current Weather</dt><dd>{Current Description} and {Max Temp}°F</dd>\n",
    "</dl>\n",
    "\"\"\"\n",
    "# Store the DataFrame Row.\n",
    "hotel_info = [info_box_template.format(**row) for index, row in four_cities_df.iterrows()]"
   ]
  },
  {
   "cell_type": "code",
   "execution_count": 10,
   "metadata": {
    "scrolled": true
   },
   "outputs": [
    {
     "data": {
      "application/vnd.jupyter.widget-view+json": {
       "model_id": "6afc240e6d2044b49aff54cc87d4f3c3",
       "version_major": 2,
       "version_minor": 0
      },
      "text/plain": [
       "Figure(layout=FigureLayout(border='1px solid black', height='750px', padding='3px', width='750px'))"
      ]
     },
     "metadata": {},
     "output_type": "display_data"
    }
   ],
   "source": [
    "# Add a marker layer map and a pop-up marker for each city.\n",
    "locations = four_cities_df[[\"Lat\", \"Lng\"]]\n",
    "max_temp = four_cities_df[\"Max Temp\"]\n",
    "fig = gmaps.figure(center=(45.0, -5.0), zoom_level=4.5,layout={'width': '750px', 'height': '750px', 'padding': '3px', 'border': '1px solid black'})\n",
    "marker_layer = gmaps.marker_layer(locations, info_box_content=hotel_info)\n",
    "fig.add_layer(marker_layer)\n",
    "\n",
    "# Call the figure to plot the data.\n",
    "fig"
   ]
  },
  {
   "cell_type": "code",
   "execution_count": 11,
   "metadata": {},
   "outputs": [],
   "source": [
    "# Take a screenshot of the marker layer map for the route and save it as WeatherPy_travel_map_markers.png."
   ]
  },
  {
   "cell_type": "code",
   "execution_count": null,
   "metadata": {},
   "outputs": [],
   "source": []
  },
  {
   "cell_type": "code",
   "execution_count": null,
   "metadata": {},
   "outputs": [],
   "source": []
  },
  {
   "cell_type": "code",
   "execution_count": null,
   "metadata": {},
   "outputs": [],
   "source": []
  },
  {
   "cell_type": "code",
   "execution_count": null,
   "metadata": {},
   "outputs": [],
   "source": []
  },
  {
   "cell_type": "code",
   "execution_count": null,
   "metadata": {},
   "outputs": [],
   "source": []
  },
  {
   "cell_type": "code",
   "execution_count": null,
   "metadata": {},
   "outputs": [],
   "source": []
  }
 ],
 "metadata": {
  "kernelspec": {
   "display_name": "PythonData",
   "language": "python",
   "name": "pythondata"
  },
  "language_info": {
   "codemirror_mode": {
    "name": "ipython",
    "version": 3
   },
   "file_extension": ".py",
   "mimetype": "text/x-python",
   "name": "python",
   "nbconvert_exporter": "python",
   "pygments_lexer": "ipython3",
   "version": "3.7.7"
  }
 },
 "nbformat": 4,
 "nbformat_minor": 4
}
