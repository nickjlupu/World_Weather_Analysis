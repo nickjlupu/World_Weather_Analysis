{
 "cells": [
  {
   "cell_type": "code",
   "execution_count": 1,
   "metadata": {},
   "outputs": [],
   "source": [
    "# Import the dependencies.\n",
    "import pandas as pd\n",
    "import matplotlib.pyplot as plt\n",
    "import numpy as np\n",
    "import requests\n",
    "import gmaps\n",
    "import gmaps.datasets\n",
    "\n",
    "# Pull API key\n",
    "from config import g_key"
   ]
  },
  {
   "cell_type": "code",
   "execution_count": 2,
   "metadata": {
    "scrolled": true
   },
   "outputs": [
    {
     "data": {
      "text/html": [
       "<div>\n",
       "<style scoped>\n",
       "    .dataframe tbody tr th:only-of-type {\n",
       "        vertical-align: middle;\n",
       "    }\n",
       "\n",
       "    .dataframe tbody tr th {\n",
       "        vertical-align: top;\n",
       "    }\n",
       "\n",
       "    .dataframe thead th {\n",
       "        text-align: right;\n",
       "    }\n",
       "</style>\n",
       "<table border=\"1\" class=\"dataframe\">\n",
       "  <thead>\n",
       "    <tr style=\"text-align: right;\">\n",
       "      <th></th>\n",
       "      <th>City_ID</th>\n",
       "      <th>City</th>\n",
       "      <th>Country</th>\n",
       "      <th>Max Temp</th>\n",
       "      <th>Current Description</th>\n",
       "      <th>Lat</th>\n",
       "      <th>Lng</th>\n",
       "      <th>Hotel Name</th>\n",
       "    </tr>\n",
       "  </thead>\n",
       "  <tbody>\n",
       "    <tr>\n",
       "      <th>0</th>\n",
       "      <td>2</td>\n",
       "      <td>Ribeira Grande</td>\n",
       "      <td>PT</td>\n",
       "      <td>73.4</td>\n",
       "      <td>few clouds</td>\n",
       "      <td>38.52</td>\n",
       "      <td>-28.70</td>\n",
       "      <td>Quinta da Meia Eira</td>\n",
       "    </tr>\n",
       "    <tr>\n",
       "      <th>1</th>\n",
       "      <td>20</td>\n",
       "      <td>Hilo</td>\n",
       "      <td>US</td>\n",
       "      <td>73.4</td>\n",
       "      <td>overcast clouds</td>\n",
       "      <td>19.73</td>\n",
       "      <td>-155.09</td>\n",
       "      <td>Hilo Hawaiian Hotel</td>\n",
       "    </tr>\n",
       "    <tr>\n",
       "      <th>2</th>\n",
       "      <td>24</td>\n",
       "      <td>Missoula</td>\n",
       "      <td>US</td>\n",
       "      <td>73.0</td>\n",
       "      <td>clear sky</td>\n",
       "      <td>47.02</td>\n",
       "      <td>-113.80</td>\n",
       "      <td>Gold Creek Cabin</td>\n",
       "    </tr>\n",
       "    <tr>\n",
       "      <th>3</th>\n",
       "      <td>25</td>\n",
       "      <td>Lompoc</td>\n",
       "      <td>US</td>\n",
       "      <td>71.6</td>\n",
       "      <td>clear sky</td>\n",
       "      <td>34.64</td>\n",
       "      <td>-120.46</td>\n",
       "      <td>Holiday Inn Express Lompoc</td>\n",
       "    </tr>\n",
       "    <tr>\n",
       "      <th>4</th>\n",
       "      <td>38</td>\n",
       "      <td>Vila Franca Do Campo</td>\n",
       "      <td>PT</td>\n",
       "      <td>71.6</td>\n",
       "      <td>broken clouds</td>\n",
       "      <td>37.72</td>\n",
       "      <td>-25.43</td>\n",
       "      <td>Pestana Bahia Praia</td>\n",
       "    </tr>\n",
       "  </tbody>\n",
       "</table>\n",
       "</div>"
      ],
      "text/plain": [
       "   City_ID                  City Country  Max Temp Current Description    Lat  \\\n",
       "0        2        Ribeira Grande      PT      73.4          few clouds  38.52   \n",
       "1       20                  Hilo      US      73.4     overcast clouds  19.73   \n",
       "2       24              Missoula      US      73.0           clear sky  47.02   \n",
       "3       25                Lompoc      US      71.6           clear sky  34.64   \n",
       "4       38  Vila Franca Do Campo      PT      71.6       broken clouds  37.72   \n",
       "\n",
       "      Lng                  Hotel Name  \n",
       "0  -28.70         Quinta da Meia Eira  \n",
       "1 -155.09         Hilo Hawaiian Hotel  \n",
       "2 -113.80            Gold Creek Cabin  \n",
       "3 -120.46  Holiday Inn Express Lompoc  \n",
       "4  -25.43         Pestana Bahia Praia  "
      ]
     },
     "execution_count": 2,
     "metadata": {},
     "output_type": "execute_result"
    }
   ],
   "source": [
    "# Import csv and save as dataframe\n",
    "vacation_df = pd.read_csv(\"weather_data/WeatherPy_vacation.csv\")\n",
    "vacation_df.head()"
   ]
  },
  {
   "cell_type": "code",
   "execution_count": 3,
   "metadata": {},
   "outputs": [],
   "source": [
    "# From the vacation search map, choose four cities that a customer might want to visit. They should be close together and on the same continent.\n",
    "# NOTE You may have to refine your search with the customer prompts to get cities that are close together.\n",
    "\n",
    "# Goderich, CA\n",
    "# Cochrane, CA\n",
    "# Missoula, US\n",
    "# Half Moon Bay, US"
   ]
  },
  {
   "cell_type": "code",
   "execution_count": 4,
   "metadata": {
    "scrolled": true
   },
   "outputs": [
    {
     "data": {
      "text/html": [
       "<div>\n",
       "<style scoped>\n",
       "    .dataframe tbody tr th:only-of-type {\n",
       "        vertical-align: middle;\n",
       "    }\n",
       "\n",
       "    .dataframe tbody tr th {\n",
       "        vertical-align: top;\n",
       "    }\n",
       "\n",
       "    .dataframe thead th {\n",
       "        text-align: right;\n",
       "    }\n",
       "</style>\n",
       "<table border=\"1\" class=\"dataframe\">\n",
       "  <thead>\n",
       "    <tr style=\"text-align: right;\">\n",
       "      <th></th>\n",
       "      <th>City_ID</th>\n",
       "      <th>City</th>\n",
       "      <th>Country</th>\n",
       "      <th>Max Temp</th>\n",
       "      <th>Current Description</th>\n",
       "      <th>Lat</th>\n",
       "      <th>Lng</th>\n",
       "      <th>Hotel Name</th>\n",
       "    </tr>\n",
       "  </thead>\n",
       "  <tbody>\n",
       "    <tr>\n",
       "      <th>16</th>\n",
       "      <td>221</td>\n",
       "      <td>Goderich</td>\n",
       "      <td>CA</td>\n",
       "      <td>73.99</td>\n",
       "      <td>overcast clouds</td>\n",
       "      <td>43.75</td>\n",
       "      <td>-81.72</td>\n",
       "      <td>Harmony Inn</td>\n",
       "    </tr>\n",
       "  </tbody>\n",
       "</table>\n",
       "</div>"
      ],
      "text/plain": [
       "    City_ID      City Country  Max Temp Current Description    Lat    Lng  \\\n",
       "16      221  Goderich      CA     73.99     overcast clouds  43.75 -81.72   \n",
       "\n",
       "     Hotel Name  \n",
       "16  Harmony Inn  "
      ]
     },
     "execution_count": 4,
     "metadata": {},
     "output_type": "execute_result"
    }
   ],
   "source": [
    "# Create separate DataFrames for each city on the travel route, using the loc attribute.\n",
    "goderich_df = vacation_df.loc[vacation_df[\"City\"]==\"Goderich\"]\n",
    "cochrane_df = vacation_df.loc[vacation_df[\"City\"]==\"Cochrane\"]\n",
    "missoula_df = vacation_df.loc[vacation_df[\"City\"]==\"Missoula\"]\n",
    "halfmoon_df = vacation_df.loc[vacation_df[\"City\"]==\"Half Moon Bay\"]\n",
    "goderich_df"
   ]
  },
  {
   "cell_type": "code",
   "execution_count": 5,
   "metadata": {},
   "outputs": [],
   "source": [
    "# To map each city on the route, get the latitude-longitude pairs for each city DataFrame as tuples.\n",
    "# Hint: To get the “values” of the latitude and longitude for each city use list indexing for each city DataFrame.\n",
    "\n",
    "# If you’d like a hint on getting the “values” of the latitude and longitude for each city using list indexing, that’s totally okay. If not, that’s great too. You can always revisit this later if you change your mind.\n",
    "\n",
    "# HINT\n",
    "# To use the Pandas values (Links to an external site.) or to_numpy()  (Links to an external site.)methods and list indexing to get the values for the latitude and longitude.\n",
    "goderich_array= goderich_df.values\n",
    "goderich_coords = (goderich_array[0][5],goderich_array[0][6])\n",
    "\n",
    "cochrane_array= cochrane_df.values\n",
    "cochrane_coords = (cochrane_array[0][5],cochrane_array[0][6])\n",
    "\n",
    "missoula_array= missoula_df.values\n",
    "missoula_coords = (missoula_array[0][5],missoula_array[0][6])\n",
    "\n",
    "halfmoon_array= halfmoon_df.values\n",
    "halfmoon_coords = (halfmoon_array[0][5],halfmoon_array[0][6])"
   ]
  },
  {
   "cell_type": "code",
   "execution_count": 16,
   "metadata": {
    "scrolled": true
   },
   "outputs": [
    {
     "data": {
      "application/vnd.jupyter.widget-view+json": {
       "model_id": "aacc7b9e66e74ff59da696da3ab161a1",
       "version_major": 2,
       "version_minor": 0
      },
      "text/plain": [
       "Figure(layout=FigureLayout(border='1px solid black', height='750px', padding='3px', width='750px'))"
      ]
     },
     "metadata": {},
     "output_type": "display_data"
    }
   ],
   "source": [
    "# Use the directions Layer instructions from the gmaps documentation (Links to an external site.).\n",
    "# For the travel_mode, use either DRIVING, BICYCLING, or WALKING.\n",
    "gmaps.configure(api_key=g_key)\n",
    "goderich2halfmoon_via_cochrane_missoula = gmaps.directions_layer(\n",
    "        goderich_coords, halfmoon_coords, waypoints=[cochrane_coords,missoula_coords],\n",
    "        travel_mode='DRIVING')\n",
    "fig.add_layer(goderich2halfmoon_via_cochrane_missoula)\n",
    "fig"
   ]
  },
  {
   "cell_type": "code",
   "execution_count": 7,
   "metadata": {},
   "outputs": [],
   "source": [
    "# Take a screenshot of the route and save it as WeatherPy_travel_map.png."
   ]
  },
  {
   "cell_type": "code",
   "execution_count": 8,
   "metadata": {},
   "outputs": [
    {
     "data": {
      "text/html": [
       "<div>\n",
       "<style scoped>\n",
       "    .dataframe tbody tr th:only-of-type {\n",
       "        vertical-align: middle;\n",
       "    }\n",
       "\n",
       "    .dataframe tbody tr th {\n",
       "        vertical-align: top;\n",
       "    }\n",
       "\n",
       "    .dataframe thead th {\n",
       "        text-align: right;\n",
       "    }\n",
       "</style>\n",
       "<table border=\"1\" class=\"dataframe\">\n",
       "  <thead>\n",
       "    <tr style=\"text-align: right;\">\n",
       "      <th></th>\n",
       "      <th>City_ID</th>\n",
       "      <th>City</th>\n",
       "      <th>Country</th>\n",
       "      <th>Max Temp</th>\n",
       "      <th>Current Description</th>\n",
       "      <th>Lat</th>\n",
       "      <th>Lng</th>\n",
       "      <th>Hotel Name</th>\n",
       "    </tr>\n",
       "  </thead>\n",
       "  <tbody>\n",
       "    <tr>\n",
       "      <th>16</th>\n",
       "      <td>221</td>\n",
       "      <td>Goderich</td>\n",
       "      <td>CA</td>\n",
       "      <td>73.99</td>\n",
       "      <td>overcast clouds</td>\n",
       "      <td>43.75</td>\n",
       "      <td>-81.72</td>\n",
       "      <td>Harmony Inn</td>\n",
       "    </tr>\n",
       "    <tr>\n",
       "      <th>28</th>\n",
       "      <td>330</td>\n",
       "      <td>Cochrane</td>\n",
       "      <td>CA</td>\n",
       "      <td>73.99</td>\n",
       "      <td>clear sky</td>\n",
       "      <td>51.18</td>\n",
       "      <td>-114.47</td>\n",
       "      <td>Days Inn &amp; Suites by Wyndham Cochrane</td>\n",
       "    </tr>\n",
       "    <tr>\n",
       "      <th>2</th>\n",
       "      <td>24</td>\n",
       "      <td>Missoula</td>\n",
       "      <td>US</td>\n",
       "      <td>73.00</td>\n",
       "      <td>clear sky</td>\n",
       "      <td>47.02</td>\n",
       "      <td>-113.80</td>\n",
       "      <td>Gold Creek Cabin</td>\n",
       "    </tr>\n",
       "    <tr>\n",
       "      <th>11</th>\n",
       "      <td>162</td>\n",
       "      <td>Half Moon Bay</td>\n",
       "      <td>US</td>\n",
       "      <td>73.99</td>\n",
       "      <td>clear sky</td>\n",
       "      <td>37.46</td>\n",
       "      <td>-122.43</td>\n",
       "      <td>The Ritz-Carlton, Half Moon Bay</td>\n",
       "    </tr>\n",
       "  </tbody>\n",
       "</table>\n",
       "</div>"
      ],
      "text/plain": [
       "    City_ID           City Country  Max Temp Current Description    Lat  \\\n",
       "16      221       Goderich      CA     73.99     overcast clouds  43.75   \n",
       "28      330       Cochrane      CA     73.99           clear sky  51.18   \n",
       "2        24       Missoula      US     73.00           clear sky  47.02   \n",
       "11      162  Half Moon Bay      US     73.99           clear sky  37.46   \n",
       "\n",
       "       Lng                             Hotel Name  \n",
       "16  -81.72                            Harmony Inn  \n",
       "28 -114.47  Days Inn & Suites by Wyndham Cochrane  \n",
       "2  -113.80                       Gold Creek Cabin  \n",
       "11 -122.43        The Ritz-Carlton, Half Moon Bay  "
      ]
     },
     "execution_count": 8,
     "metadata": {},
     "output_type": "execute_result"
    }
   ],
   "source": [
    "# Create a marker layer map for the four cities.\n",
    "# Hint: Combine the four separate DataFrames for each city into one DataFrame.\n",
    "four_cities_df = pd.concat([goderich_df,cochrane_df,missoula_df,halfmoon_df])\n",
    "four_cities_df.head()"
   ]
  },
  {
   "cell_type": "code",
   "execution_count": 9,
   "metadata": {},
   "outputs": [],
   "source": [
    "# On the marker layer map, make sure each city has a pop-up marker that contains the following:\n",
    "# Hotel name\n",
    "# City\n",
    "# Country\n",
    "# Current weather description with the maximum temperature\n",
    "\n",
    "info_box_template = \"\"\"\n",
    "<dl>\n",
    "<dt>Hotel Name</dt><dd>{Hotel Name}</dd>\n",
    "<dt>City</dt><dd>{City}</dd>\n",
    "<dt>Country</dt><dd>{Country}</dd>\n",
    "<dt>Current Weather</dt><dd>{Current Description} and {Max Temp}°F</dd>\n",
    "</dl>\n",
    "\"\"\"\n",
    "# Store the DataFrame Row.\n",
    "hotel_info = [info_box_template.format(**row) for index, row in four_cities_df.iterrows()]"
   ]
  },
  {
   "cell_type": "code",
   "execution_count": 14,
   "metadata": {
    "scrolled": true
   },
   "outputs": [
    {
     "data": {
      "application/vnd.jupyter.widget-view+json": {
       "model_id": "aacc7b9e66e74ff59da696da3ab161a1",
       "version_major": 2,
       "version_minor": 0
      },
      "text/plain": [
       "Figure(layout=FigureLayout(border='1px solid black', height='750px', padding='3px', width='750px'))"
      ]
     },
     "metadata": {},
     "output_type": "display_data"
    }
   ],
   "source": [
    "# Add a marker layer map and a pop-up marker for each city.\n",
    "locations = four_cities_df[[\"Lat\", \"Lng\"]]\n",
    "max_temp = four_cities_df[\"Max Temp\"]\n",
    "fig = gmaps.figure(center=(42.0, -102.0), zoom_level=5,layout={'width': '750px', 'height': '750px', 'padding': '3px', 'border': '1px solid black'})\n",
    "marker_layer = gmaps.marker_layer(locations, info_box_content=hotel_info)\n",
    "fig.add_layer(marker_layer)\n",
    "\n",
    "# Call the figure to plot the data.\n",
    "fig"
   ]
  },
  {
   "cell_type": "code",
   "execution_count": 11,
   "metadata": {},
   "outputs": [],
   "source": [
    "# Take a screenshot of the marker layer map for the route and save it as WeatherPy_travel_map_markers.png."
   ]
  },
  {
   "cell_type": "code",
   "execution_count": null,
   "metadata": {},
   "outputs": [],
   "source": []
  },
  {
   "cell_type": "code",
   "execution_count": null,
   "metadata": {},
   "outputs": [],
   "source": []
  },
  {
   "cell_type": "code",
   "execution_count": null,
   "metadata": {},
   "outputs": [],
   "source": []
  },
  {
   "cell_type": "code",
   "execution_count": null,
   "metadata": {},
   "outputs": [],
   "source": []
  },
  {
   "cell_type": "code",
   "execution_count": null,
   "metadata": {},
   "outputs": [],
   "source": []
  },
  {
   "cell_type": "code",
   "execution_count": null,
   "metadata": {},
   "outputs": [],
   "source": []
  }
 ],
 "metadata": {
  "kernelspec": {
   "display_name": "PythonData",
   "language": "python",
   "name": "pythondata"
  },
  "language_info": {
   "codemirror_mode": {
    "name": "ipython",
    "version": 3
   },
   "file_extension": ".py",
   "mimetype": "text/x-python",
   "name": "python",
   "nbconvert_exporter": "python",
   "pygments_lexer": "ipython3",
   "version": "3.7.7"
  }
 },
 "nbformat": 4,
 "nbformat_minor": 4
}
